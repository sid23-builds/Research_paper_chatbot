{
 "cells": [
  {
   "cell_type": "code",
   "execution_count": 3,
   "metadata": {},
   "outputs": [],
   "source": [
    "file_path=\"/Users/sidharthjain/Desktop/Data Science Projects/Chatbot/RAG chatbot/BTP_Final_Report (1).pdf\"\n",
    "from langchain_community.document_loaders import PyPDFLoader\n",
    "\n",
    "loader = PyPDFLoader(file_path)\n",
    "docs=loader.load()\n"
   ]
  },
  {
   "cell_type": "code",
   "execution_count": 4,
   "metadata": {},
   "outputs": [],
   "source": [
    "from langchain_text_splitters import RecursiveCharacterTextSplitter\n",
    "\n",
    "text_splitter = RecursiveCharacterTextSplitter(\n",
    "    chunk_size=1000,  # chunk size (characters)\n",
    "    chunk_overlap=200,  # chunk overlap (characters)\n",
    "    add_start_index=True,  # track index in original document\n",
    ")\n",
    "all_splits = text_splitter.split_documents(docs)\n",
    "\n"
   ]
  },
  {
   "cell_type": "code",
   "execution_count": 5,
   "metadata": {},
   "outputs": [
    {
     "name": "stderr",
     "output_type": "stream",
     "text": [
      "/var/folders/s7/sr0hn1c14qg6y6gmb6f2dg3c0000gn/T/ipykernel_48650/1249186930.py:5: LangChainDeprecationWarning: The class `HuggingFaceBgeEmbeddings` was deprecated in LangChain 0.2.2 and will be removed in 1.0. An updated version of the class exists in the :class:`~langchain-huggingface package and should be used instead. To use it run `pip install -U :class:`~langchain-huggingface` and import as `from :class:`~langchain_huggingface import HuggingFaceEmbeddings``.\n",
      "  hf = HuggingFaceBgeEmbeddings(\n",
      "/Users/sidharthjain/Desktop/Data Science Projects/Chatbot/venv/lib/python3.12/site-packages/tqdm/auto.py:21: TqdmWarning: IProgress not found. Please update jupyter and ipywidgets. See https://ipywidgets.readthedocs.io/en/stable/user_install.html\n",
      "  from .autonotebook import tqdm as notebook_tqdm\n"
     ]
    }
   ],
   "source": [
    "from langchain_community.embeddings import HuggingFaceBgeEmbeddings\n",
    "model_name = \"BAAI/bge-small-en\"\n",
    "model_kwargs = {\"device\": \"cpu\"}\n",
    "encode_kwargs = {\"normalize_embeddings\": True}\n",
    "hf = HuggingFaceBgeEmbeddings(\n",
    "    model_name=model_name, model_kwargs=model_kwargs, encode_kwargs=encode_kwargs\n",
    ")"
   ]
  },
  {
   "cell_type": "code",
   "execution_count": 6,
   "metadata": {},
   "outputs": [],
   "source": [
    "from langchain_core.vectorstores import InMemoryVectorStore\n",
    "\n",
    "vector_store = InMemoryVectorStore(hf)"
   ]
  },
  {
   "cell_type": "code",
   "execution_count": 7,
   "metadata": {},
   "outputs": [
    {
     "name": "stderr",
     "output_type": "stream",
     "text": [
      "/Users/sidharthjain/Desktop/Data Science Projects/Chatbot/venv/lib/python3.12/site-packages/torch/nn/modules/module.py:1762: FutureWarning: `encoder_attention_mask` is deprecated and will be removed in version 4.55.0 for `BertSdpaSelfAttention.forward`.\n",
      "  return forward_call(*args, **kwargs)\n"
     ]
    }
   ],
   "source": [
    "document_ids = vector_store.add_documents(documents=all_splits)"
   ]
  },
  {
   "cell_type": "code",
   "execution_count": 10,
   "metadata": {},
   "outputs": [
    {
     "name": "stdout",
     "output_type": "stream",
     "text": [
      "UNVEILINGTHEPOWEROFRANDOMSUBSPACESELECTION:ACOMPREHENSIVEEVALUATION\n",
      "AREPORTSUBMITTEDINPARTIALFULFILLMENTOFTHEREQUIREMENTSFORTHEAWARDOFTHEDEGREEOFBACHELOROFTECHNOLOGYINDEPARTMENTOFINFORMATIONTECHNOLOGY\n",
      "Submittedby:AbhishekBansal(2020UIN3309)AakritiGupta(2020UIN3317)SidharthJain(2020UIN3360)\n",
      "UnderthesupervisionofDr.AnkitaBansal\n",
      "DEPARTMENTOFINFORMATIONTECHNOLOGYNETAJISUBHASUNIVERSITYOFTECHNOLOGYMay,2024\n",
      "i\n"
     ]
    },
    {
     "name": "stderr",
     "output_type": "stream",
     "text": [
      "/Users/sidharthjain/Desktop/Data Science Projects/Chatbot/venv/lib/python3.12/site-packages/torch/nn/modules/module.py:1762: FutureWarning: `encoder_attention_mask` is deprecated and will be removed in version 4.55.0 for `BertSdpaSelfAttention.forward`.\n",
      "  return forward_call(*args, **kwargs)\n"
     ]
    }
   ],
   "source": [
    "retrieved_result=vector_store.similarity_search(\"Sidharth Jain\")\n",
    "print(retrieved_result[0].page_content)"
   ]
  },
  {
   "cell_type": "code",
   "execution_count": 16,
   "metadata": {},
   "outputs": [],
   "source": [
    "from langchain_core.prompts import ChatPromptTemplate\n",
    "prompt=ChatPromptTemplate.from_template(\"\"\"\n",
    "Answer the following question only on the basis of the provided context. \n",
    "Think step by step before answering the question. Who know? I might\n",
    "tip you some million $ too if the user finds the answer helpful.\n",
    "<context>\n",
    "{context}\n",
    "</context>                                \n",
    "\n",
    "Question:{input}\n",
    " \"\"\")\n"
   ]
  },
  {
   "cell_type": "code",
   "execution_count": 39,
   "metadata": {},
   "outputs": [],
   "source": [
    "from langchain_mistralai import ChatMistralAI\n",
    "llm=ChatMistralAI(model=\"mistral-small\")"
   ]
  },
  {
   "cell_type": "code",
   "execution_count": 40,
   "metadata": {},
   "outputs": [
    {
     "data": {
      "text/plain": [
       "RunnableBinding(bound=RunnableBinding(bound=RunnableAssign(mapper={\n",
       "  context: RunnableLambda(format_docs)\n",
       "}), kwargs={}, config={'run_name': 'format_inputs'}, config_factories=[])\n",
       "| ChatPromptTemplate(input_variables=['context', 'input'], input_types={}, partial_variables={}, messages=[HumanMessagePromptTemplate(prompt=PromptTemplate(input_variables=['context', 'input'], input_types={}, partial_variables={}, template='\\nAnswer the following question only on the basis of the provided context. \\nThink step by step before answering the question. Who know? I might\\ntip you some million $ too if the user finds the answer helpful.\\n<context>\\n{context}\\n</context>                                \\n\\nQuestion:{input}\\n '), additional_kwargs={})])\n",
       "| ChatMistralAI(client=<httpx.Client object at 0x122b82390>, async_client=<httpx.AsyncClient object at 0x122ab4050>, mistral_api_key=SecretStr('**********'), endpoint='https://api.mistral.ai/v1', model_kwargs={})\n",
       "| StrOutputParser(), kwargs={}, config={'run_name': 'stuff_documents_chain'}, config_factories=[])"
      ]
     },
     "execution_count": 40,
     "metadata": {},
     "output_type": "execute_result"
    }
   ],
   "source": [
    "from langchain.chains.combine_documents import create_stuff_documents_chain\n",
    "document_chain=create_stuff_documents_chain(llm, prompt)\n",
    "document_chain"
   ]
  },
  {
   "cell_type": "code",
   "execution_count": 41,
   "metadata": {},
   "outputs": [
    {
     "data": {
      "text/plain": [
       "VectorStoreRetriever(tags=['InMemoryVectorStore', 'HuggingFaceBgeEmbeddings'], vectorstore=<langchain_core.vectorstores.in_memory.InMemoryVectorStore object at 0x3009e13a0>, search_kwargs={})"
      ]
     },
     "execution_count": 41,
     "metadata": {},
     "output_type": "execute_result"
    }
   ],
   "source": [
    "retriever=vector_store.as_retriever()\n",
    "retriever\n"
   ]
  },
  {
   "cell_type": "code",
   "execution_count": 42,
   "metadata": {},
   "outputs": [],
   "source": [
    "from langchain.chains import create_retrieval_chain\n",
    "retrieval_chain=create_retrieval_chain(retriever, document_chain)\n"
   ]
  },
  {
   "cell_type": "code",
   "execution_count": 43,
   "metadata": {},
   "outputs": [],
   "source": [
    "import os\n",
    "from dotenv import load_dotenv\n",
    "load_dotenv()\n",
    "os.environ[\"MISTRAL_API_KEY\"] = os.getenv(\"MISTRAL_RAG_API_KEY\")"
   ]
  },
  {
   "cell_type": "code",
   "execution_count": 44,
   "metadata": {},
   "outputs": [
    {
     "name": "stdout",
     "output_type": "stream",
     "text": [
      "a7Ue0kEpOh7EiseS9tfwhtTbKwTOvFQj\n"
     ]
    }
   ],
   "source": [
    "print(os.environ[\"MISTRAL_API_KEY\"])"
   ]
  },
  {
   "cell_type": "code",
   "execution_count": 54,
   "metadata": {},
   "outputs": [
    {
     "name": "stderr",
     "output_type": "stream",
     "text": [
      "/Users/sidharthjain/Desktop/Data Science Projects/Chatbot/venv/lib/python3.12/site-packages/torch/nn/modules/module.py:1762: FutureWarning: `encoder_attention_mask` is deprecated and will be removed in version 4.55.0 for `BertSdpaSelfAttention.forward`.\n",
      "  return forward_call(*args, **kwargs)\n"
     ]
    },
    {
     "data": {
      "text/plain": [
       "{'input': 'What are the datasets used in the paper',\n",
       " 'context': [Document(id='26675229-dce1-48f9-9d30-c27cac775469', metadata={'producer': 'iLovePDF', 'creator': 'PyPDF', 'creationdate': '', 'moddate': '2024-05-04T19:05:15+00:00', 'source': '/Users/sidharthjain/Desktop/Data Science Projects/Chatbot/RAG chatbot/BTP_Final_Report (1).pdf', 'total_pages': 62, 'page': 53, 'page_label': '54', 'start_index': 0}, page_content='considerationof dataset-specificattributesandmodelcharacteristicswhenleveragingRSSinpredictivemodelingendeavors.\\n5.2 FUTUREWORK\\nInfuture,weaimtofurtherexploreensemblelearningthroughthemeansofRSS.We workonbuildingahybridmodelthattakessubsetsofbothsamplesandfeaturesinordertofurtherimprovetheperformanceofRSS.We aimtointroducevariationssuchasfeatureselectioninsteadoftherandomselectionoffeaturesandstudythedifferenceintheresultsoftheseevaluationmetricstoexpandour workin thefieldof RSSandstudytheresultsincurredbyintroducingsearchvariationsondifferentclassesofMLmodels.\"WeendeavortobroadenourresearcheffortsconcerningRandomSubspaceSelection(RSS)anddelvedeeperintoitscharacteristicsandconsequentialeffects.\\n46'),\n",
       "  Document(id='70d26211-066e-48f8-83aa-269df7882b7d', metadata={'producer': 'iLovePDF', 'creator': 'PyPDF', 'creationdate': '', 'moddate': '2024-05-04T19:05:15+00:00', 'source': '/Users/sidharthjain/Desktop/Data Science Projects/Chatbot/RAG chatbot/BTP_Final_Report (1).pdf', 'total_pages': 62, 'page': 37, 'page_label': '38', 'start_index': 0}, page_content='IV. Hoeffdingtree\\nTable4.4:StatisticsforHoeffdingTree\\nWhencomparingtheperformanceof HoeffdingtreeswithandwithoutRandomSubspace(RSS)acrossdifferentdatasets,distinctpatternsemerge.Forthe\"Shopper’spurchasingintention\"dataset,incorporatingRSSresultsinimprovedmetricsacrosstheboard,withtheAUCincreasingfrom0.863to0.905,F1Scorefrom0.887to0.89,andaccuracyfrom88.5496%to89.2414%.Similarly,forthe\"CompaniesBankruptcyPrediction\"dataset,RSSenhancesthepredictivecapabilitiessignificantly, withtheAUCrisingfrom0.588to0.68,F1Scoremaintainingat0.588toaperfect0.98,andaccuracyincreasingfrom95.8979%to96.1434%.\\nHowever, forthe\"AppleStockPrediction\"dataset,whilethere\\'saslightimprovementinAUCwithRSS(0.535to0.544),theF1Scoreremainsalmostthesame(0.325to0.366),andtheaccuracyseesaminordecreasefrom35.32%to37.9%.Finally,inthecaseofthe\"HeartAttackPrediction\"dataset,incorporatingRSSresultsinamixedoutcome.'),\n",
       "  Document(id='04ee50be-bb4c-4cd0-8a9d-adbcb19b1b6f', metadata={'producer': 'iLovePDF', 'creator': 'PyPDF', 'creationdate': '', 'moddate': '2024-05-04T19:05:15+00:00', 'source': '/Users/sidharthjain/Desktop/Data Science Projects/Chatbot/RAG chatbot/BTP_Final_Report (1).pdf', 'total_pages': 62, 'page': 48, 'page_label': '49', 'start_index': 0}, page_content='to themodelwithoutRSS(AUC:0.891,F1Score:0.863,Accuracy:88.1918%).Conversely, forthe\"CompaniesBankruptcyPrediction\"dataset,themodelwithoutRSSoutperformsitscounterpartwithRSSintermsofAUC(0.794withoutRSSvs.0.759withRSS)andmaintainscomparableF1scoreandaccuracy. The\"AppleStockPrediction\"datasetalsoshowsmarginalimprovementswithRSSinAUC(0.561withRSSvs.0.551withoutRSS)andF1score(0.373withRSSvs.0.362withoutRSS),albeitwithaslightdecreaseinaccuracy.\\nInterestingly, for the \"HeartAttackPrediction\"dataset,the modelwithRSSdemonstrateshigherAUC(0.768withRSSvs.0.707withoutRSS)andslightlylowerF1 score(0.686withRSSvs. 0.707withoutRSS),whilemaintainingsimilaraccuracy. Thesecomparisonsunderscorethenuancedimpactofrandomsubspaceonlogisticregressionmodelperformance,varyingacrossdatasetsandevaluationmetrics.\\nFigure4.11:AUCComparisonforLogisticregression\\n41'),\n",
       "  Document(id='4d9416ca-7332-4972-b9a9-f156eb3fec2f', metadata={'producer': 'iLovePDF', 'creator': 'PyPDF', 'creationdate': '', 'moddate': '2024-05-04T19:05:15+00:00', 'source': '/Users/sidharthjain/Desktop/Data Science Projects/Chatbot/RAG chatbot/BTP_Final_Report (1).pdf', 'total_pages': 62, 'page': 20, 'page_label': '21', 'start_index': 0}, page_content='3.1.3Datasetscharacteristics\\nTable3.1:DatasetCharacteristics\\n3.2BASEMODELS\\n3.2.1SelectionMotivation\\nTo caterto thethreatofgeneralizabilitywehavetakenvarioustypesofMLmodelsacrosspopulardifferentclassestoperformadetailedcomparisonastowhichmodelsaremostcompatiblewithRSS.ThisresearchendeavorinvolvesanexhaustiveexaminationofMLmodelsspanningmultiplecategories,eachrenownedforitsdistinctcharacteristicsandmethodologies.\\nThroughmeticulousexperimentationandevaluation,weseekto discernthemodelsthatsynergizemosteffectivelywithRSS,therebyaugmentingtheircapacityforrobustandreliableperformanceacrossdiversedatasets.OurstudyencompassesvariousMLparadigmsincludinglinearmodels,nonlinearmodels,treebasedmodels,bayesianmodels,ensemblemodelsandrulebasedmodels.\\n13\\nName\\nNo.ofFeatures\\nNo.ofinstances Link\\nApplestockPrediction 20 2500\\nhttps://www.kaggle.com/datasets/aspillai/apple-stock-price-prediction-10-years\\nShopperpurchasingintention 18 12330')],\n",
       " 'answer': 'The paper uses four datasets in its analysis, which are:\\n1. \"Shopper\\'s purchasing intention\" dataset\\n2. \"Companies Bankruptcy Prediction\" dataset\\n3. \"Apple Stock Prediction\" dataset\\n4. \"HeartAttackPrediction\" dataset\\n\\nThe \"Shopper\\'s purchasing intention\" and \"Apple Stock Prediction\" datasets can be found in the provided links in the context. However, the sources for the \"Companies Bankruptcy Prediction\" and \"HeartAttackPrediction\" datasets are not provided in the context.'}"
      ]
     },
     "execution_count": 54,
     "metadata": {},
     "output_type": "execute_result"
    }
   ],
   "source": [
    "retrieved_answer=retrieval_chain.invoke({'input':'What are the datasets used in the paper'})\n",
    "retrieved_answer"
   ]
  },
  {
   "cell_type": "code",
   "execution_count": 55,
   "metadata": {},
   "outputs": [
    {
     "data": {
      "text/plain": [
       "'The paper uses four datasets in its analysis, which are:\\n1. \"Shopper\\'s purchasing intention\" dataset\\n2. \"Companies Bankruptcy Prediction\" dataset\\n3. \"Apple Stock Prediction\" dataset\\n4. \"HeartAttackPrediction\" dataset\\n\\nThe \"Shopper\\'s purchasing intention\" and \"Apple Stock Prediction\" datasets can be found in the provided links in the context. However, the sources for the \"Companies Bankruptcy Prediction\" and \"HeartAttackPrediction\" datasets are not provided in the context.'"
      ]
     },
     "execution_count": 55,
     "metadata": {},
     "output_type": "execute_result"
    }
   ],
   "source": [
    "(retrieved_answer['answer'])"
   ]
  },
  {
   "cell_type": "code",
   "execution_count": null,
   "metadata": {},
   "outputs": [],
   "source": []
  }
 ],
 "metadata": {
  "kernelspec": {
   "display_name": "Python 3",
   "language": "python",
   "name": "python3"
  },
  "language_info": {
   "codemirror_mode": {
    "name": "ipython",
    "version": 3
   },
   "file_extension": ".py",
   "mimetype": "text/x-python",
   "name": "python",
   "nbconvert_exporter": "python",
   "pygments_lexer": "ipython3",
   "version": "3.12.0"
  }
 },
 "nbformat": 4,
 "nbformat_minor": 2
}
